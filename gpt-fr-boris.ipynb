{
 "cells": [
  {
   "attachments": {},
   "cell_type": "markdown",
   "metadata": {},
   "source": [
    "### Install"
   ]
  },
  {
   "cell_type": "code",
   "execution_count": 3,
   "metadata": {},
   "outputs": [
    {
     "name": "stdout",
     "output_type": "stream",
     "text": [
      "Defaulting to user installation because normal site-packages is not writeable\n",
      "Collecting torch==1.10\n",
      "  Downloading torch-1.10.0-cp39-none-macosx_10_9_x86_64.whl (147.1 MB)\n",
      "\u001b[2K     \u001b[90m━━━━━━━━━━━━━━━━━━━━━━━━━━━━━━━━━━━━━━━\u001b[0m \u001b[32m147.1/147.1 MB\u001b[0m \u001b[31m3.8 MB/s\u001b[0m eta \u001b[36m0:00:00\u001b[0m00:01\u001b[0m00:01\u001b[0m\n",
      "\u001b[?25hRequirement already satisfied: typing-extensions in /Users/naowak/Library/Python/3.9/lib/python/site-packages (from torch==1.10) (4.4.0)\n",
      "Installing collected packages: torch\n",
      "  Attempting uninstall: torch\n",
      "    Found existing installation: torch 1.13.1\n",
      "    Uninstalling torch-1.13.1:\n",
      "      Successfully uninstalled torch-1.13.1\n",
      "\u001b[33m  WARNING: The scripts convert-caffe2-to-onnx, convert-onnx-to-caffe2 and torchrun are installed in '/Users/naowak/Library/Python/3.9/bin' which is not on PATH.\n",
      "  Consider adding this directory to PATH or, if you prefer to suppress this warning, use --no-warn-script-location.\u001b[0m\u001b[33m\n",
      "\u001b[0mSuccessfully installed torch-1.10.0\n",
      "\n",
      "\u001b[1m[\u001b[0m\u001b[34;49mnotice\u001b[0m\u001b[1;39;49m]\u001b[0m\u001b[39;49m A new release of pip available: \u001b[0m\u001b[31;49m22.3.1\u001b[0m\u001b[39;49m -> \u001b[0m\u001b[32;49m23.0\u001b[0m\n",
      "\u001b[1m[\u001b[0m\u001b[34;49mnotice\u001b[0m\u001b[1;39;49m]\u001b[0m\u001b[39;49m To update, run: \u001b[0m\u001b[32;49m/Applications/Xcode.app/Contents/Developer/usr/bin/python3 -m pip install --upgrade pip\u001b[0m\n",
      "Note: you may need to restart the kernel to use updated packages.\n",
      "Defaulting to user installation because normal site-packages is not writeable\n",
      "Collecting transformers==4.18\n",
      "  Downloading transformers-4.18.0-py3-none-any.whl (4.0 MB)\n",
      "\u001b[2K     \u001b[90m━━━━━━━━━━━━━━━━━━━━━━━━━━━━━━━━━━━━━━━━\u001b[0m \u001b[32m4.0/4.0 MB\u001b[0m \u001b[31m4.2 MB/s\u001b[0m eta \u001b[36m0:00:00\u001b[0m00:01\u001b[0m00:01\u001b[0m\n",
      "\u001b[?25hRequirement already satisfied: huggingface-hub<1.0,>=0.1.0 in /Users/naowak/Library/Python/3.9/lib/python/site-packages (from transformers==4.18) (0.12.0)\n",
      "Requirement already satisfied: pyyaml>=5.1 in /Users/naowak/Library/Python/3.9/lib/python/site-packages (from transformers==4.18) (6.0)\n",
      "Requirement already satisfied: regex!=2019.12.17 in /Users/naowak/Library/Python/3.9/lib/python/site-packages (from transformers==4.18) (2022.10.31)\n",
      "Collecting sacremoses\n",
      "  Downloading sacremoses-0.0.53.tar.gz (880 kB)\n",
      "\u001b[2K     \u001b[90m━━━━━━━━━━━━━━━━━━━━━━━━━━━━━━━━━━━━━━━\u001b[0m \u001b[32m880.6/880.6 kB\u001b[0m \u001b[31m3.6 MB/s\u001b[0m eta \u001b[36m0:00:00\u001b[0m00:01\u001b[0m00:01\u001b[0m\n",
      "\u001b[?25h  Preparing metadata (setup.py) ... \u001b[?25ldone\n",
      "\u001b[?25hRequirement already satisfied: requests in /Users/naowak/Library/Python/3.9/lib/python/site-packages (from transformers==4.18) (2.28.2)\n",
      "Requirement already satisfied: packaging>=20.0 in /Users/naowak/Library/Python/3.9/lib/python/site-packages (from transformers==4.18) (23.0)\n",
      "Collecting tokenizers!=0.11.3,<0.13,>=0.11.1\n",
      "  Downloading tokenizers-0.12.1-cp39-cp39-macosx_10_11_x86_64.whl (3.6 MB)\n",
      "\u001b[2K     \u001b[90m━━━━━━━━━━━━━━━━━━━━━━━━━━━━━━━━━━━━━━━━\u001b[0m \u001b[32m3.6/3.6 MB\u001b[0m \u001b[31m4.4 MB/s\u001b[0m eta \u001b[36m0:00:00\u001b[0m00:01\u001b[0m00:01\u001b[0m\n",
      "\u001b[?25hRequirement already satisfied: numpy>=1.17 in /Users/naowak/Library/Python/3.9/lib/python/site-packages (from transformers==4.18) (1.24.2)\n",
      "Requirement already satisfied: filelock in /Users/naowak/Library/Python/3.9/lib/python/site-packages (from transformers==4.18) (3.9.0)\n",
      "Requirement already satisfied: tqdm>=4.27 in /Users/naowak/Library/Python/3.9/lib/python/site-packages (from transformers==4.18) (4.64.1)\n",
      "Requirement already satisfied: typing-extensions>=3.7.4.3 in /Users/naowak/Library/Python/3.9/lib/python/site-packages (from huggingface-hub<1.0,>=0.1.0->transformers==4.18) (4.4.0)\n",
      "Requirement already satisfied: idna<4,>=2.5 in /Users/naowak/Library/Python/3.9/lib/python/site-packages (from requests->transformers==4.18) (3.4)\n",
      "Requirement already satisfied: certifi>=2017.4.17 in /Users/naowak/Library/Python/3.9/lib/python/site-packages (from requests->transformers==4.18) (2022.12.7)\n",
      "Requirement already satisfied: charset-normalizer<4,>=2 in /Users/naowak/Library/Python/3.9/lib/python/site-packages (from requests->transformers==4.18) (2.1.1)\n",
      "Requirement already satisfied: urllib3<1.27,>=1.21.1 in /Users/naowak/Library/Python/3.9/lib/python/site-packages (from requests->transformers==4.18) (1.26.14)\n",
      "Requirement already satisfied: six in /Applications/Xcode.app/Contents/Developer/Library/Frameworks/Python3.framework/Versions/3.9/lib/python3.9/site-packages (from sacremoses->transformers==4.18) (1.15.0)\n",
      "Collecting click\n",
      "  Downloading click-8.1.3-py3-none-any.whl (96 kB)\n",
      "\u001b[2K     \u001b[90m━━━━━━━━━━━━━━━━━━━━━━━━━━━━━━━━━━━━━━━━\u001b[0m \u001b[32m96.6/96.6 kB\u001b[0m \u001b[31m1.5 MB/s\u001b[0m eta \u001b[36m0:00:00\u001b[0ma \u001b[36m0:00:01\u001b[0m\n",
      "\u001b[?25hCollecting joblib\n",
      "  Downloading joblib-1.2.0-py3-none-any.whl (297 kB)\n",
      "\u001b[2K     \u001b[90m━━━━━━━━━━━━━━━━━━━━━━━━━━━━━━━━━━━━━━━\u001b[0m \u001b[32m298.0/298.0 kB\u001b[0m \u001b[31m3.6 MB/s\u001b[0m eta \u001b[36m0:00:00\u001b[0m00:01\u001b[0m\n",
      "\u001b[?25hBuilding wheels for collected packages: sacremoses\n",
      "  Building wheel for sacremoses (setup.py) ... \u001b[?25ldone\n",
      "\u001b[?25h  Created wheel for sacremoses: filename=sacremoses-0.0.53-py3-none-any.whl size=895260 sha256=ed180682a573db8116454d4e1e1dbad17b87e827c829bbd825c4f693c229254c\n",
      "  Stored in directory: /Users/naowak/Library/Caches/pip/wheels/42/79/78/5ad3b042cb2d97c294535162cdbaf9b167e3b186eae55ab72d\n",
      "Successfully built sacremoses\n",
      "Installing collected packages: tokenizers, joblib, click, sacremoses, transformers\n",
      "  Attempting uninstall: tokenizers\n",
      "    Found existing installation: tokenizers 0.13.2\n",
      "    Uninstalling tokenizers-0.13.2:\n",
      "      Successfully uninstalled tokenizers-0.13.2\n",
      "\u001b[33m  WARNING: The script sacremoses is installed in '/Users/naowak/Library/Python/3.9/bin' which is not on PATH.\n",
      "  Consider adding this directory to PATH or, if you prefer to suppress this warning, use --no-warn-script-location.\u001b[0m\u001b[33m\n",
      "\u001b[0m  Attempting uninstall: transformers\n",
      "    Found existing installation: transformers 4.26.0\n",
      "    Uninstalling transformers-4.26.0:\n",
      "      Successfully uninstalled transformers-4.26.0\n",
      "\u001b[33m  WARNING: The script transformers-cli is installed in '/Users/naowak/Library/Python/3.9/bin' which is not on PATH.\n",
      "  Consider adding this directory to PATH or, if you prefer to suppress this warning, use --no-warn-script-location.\u001b[0m\u001b[33m\n",
      "\u001b[0mSuccessfully installed click-8.1.3 joblib-1.2.0 sacremoses-0.0.53 tokenizers-0.12.1 transformers-4.18.0\n",
      "\n",
      "\u001b[1m[\u001b[0m\u001b[34;49mnotice\u001b[0m\u001b[1;39;49m]\u001b[0m\u001b[39;49m A new release of pip available: \u001b[0m\u001b[31;49m22.3.1\u001b[0m\u001b[39;49m -> \u001b[0m\u001b[32;49m23.0\u001b[0m\n",
      "\u001b[1m[\u001b[0m\u001b[34;49mnotice\u001b[0m\u001b[1;39;49m]\u001b[0m\u001b[39;49m To update, run: \u001b[0m\u001b[32;49m/Applications/Xcode.app/Contents/Developer/usr/bin/python3 -m pip install --upgrade pip\u001b[0m\n",
      "Note: you may need to restart the kernel to use updated packages.\n",
      "Defaulting to user installation because normal site-packages is not writeable\n",
      "\u001b[31mERROR: Could not find a version that satisfies the requirement happytranformer (from versions: none)\u001b[0m\u001b[31m\n",
      "\u001b[0m\u001b[31mERROR: No matching distribution found for happytranformer\u001b[0m\u001b[31m\n",
      "\u001b[0m\n",
      "\u001b[1m[\u001b[0m\u001b[34;49mnotice\u001b[0m\u001b[1;39;49m]\u001b[0m\u001b[39;49m A new release of pip available: \u001b[0m\u001b[31;49m22.3.1\u001b[0m\u001b[39;49m -> \u001b[0m\u001b[32;49m23.0\u001b[0m\n",
      "\u001b[1m[\u001b[0m\u001b[34;49mnotice\u001b[0m\u001b[1;39;49m]\u001b[0m\u001b[39;49m To update, run: \u001b[0m\u001b[32;49m/Applications/Xcode.app/Contents/Developer/usr/bin/python3 -m pip install --upgrade pip\u001b[0m\n",
      "Note: you may need to restart the kernel to use updated packages.\n"
     ]
    }
   ],
   "source": [
    "# 1. Install python package in vscode \n",
    "# 2. Run pip install jupyter in vscode terminal\n",
    "# 3. Relauch vscode \n",
    "# 4. Select the correct python for the jupyter kernel\n",
    "\n",
    "# Packege & Versions needed \n",
    "%pip install torch==1.10 \n",
    "%pip install transformers==4.18\n",
    "%pip install happytransformer"
   ]
  },
  {
   "cell_type": "code",
   "execution_count": 6,
   "metadata": {},
   "outputs": [
    {
     "name": "stdout",
     "output_type": "stream",
     "text": [
      "Defaulting to user installation because normal site-packages is not writeable\n",
      "Requirement already satisfied: happytransformer in /Users/naowak/Library/Python/3.9/lib/python/site-packages (2.4.1)\n",
      "Requirement already satisfied: torch>=1.0 in /Users/naowak/Library/Python/3.9/lib/python/site-packages (from happytransformer) (1.10.0)\n",
      "Requirement already satisfied: sentencepiece in /Users/naowak/Library/Python/3.9/lib/python/site-packages (from happytransformer) (0.1.97)\n",
      "Requirement already satisfied: protobuf in /Users/naowak/Library/Python/3.9/lib/python/site-packages (from happytransformer) (4.21.12)\n",
      "Requirement already satisfied: tqdm>=4.43 in /Users/naowak/Library/Python/3.9/lib/python/site-packages (from happytransformer) (4.64.1)\n",
      "Requirement already satisfied: datasets>=1.6.0 in /Users/naowak/Library/Python/3.9/lib/python/site-packages (from happytransformer) (2.9.0)\n",
      "Requirement already satisfied: transformers>=4.4.0 in /Users/naowak/Library/Python/3.9/lib/python/site-packages (from happytransformer) (4.18.0)\n",
      "Requirement already satisfied: xxhash in /Users/naowak/Library/Python/3.9/lib/python/site-packages (from datasets>=1.6.0->happytransformer) (3.2.0)\n",
      "Requirement already satisfied: huggingface-hub<1.0.0,>=0.2.0 in /Users/naowak/Library/Python/3.9/lib/python/site-packages (from datasets>=1.6.0->happytransformer) (0.12.0)\n",
      "Requirement already satisfied: pyyaml>=5.1 in /Users/naowak/Library/Python/3.9/lib/python/site-packages (from datasets>=1.6.0->happytransformer) (6.0)\n",
      "Requirement already satisfied: aiohttp in /Users/naowak/Library/Python/3.9/lib/python/site-packages (from datasets>=1.6.0->happytransformer) (3.8.3)\n",
      "Requirement already satisfied: dill<0.3.7 in /Users/naowak/Library/Python/3.9/lib/python/site-packages (from datasets>=1.6.0->happytransformer) (0.3.6)\n",
      "Requirement already satisfied: requests>=2.19.0 in /Users/naowak/Library/Python/3.9/lib/python/site-packages (from datasets>=1.6.0->happytransformer) (2.28.2)\n",
      "Requirement already satisfied: numpy>=1.17 in /Users/naowak/Library/Python/3.9/lib/python/site-packages (from datasets>=1.6.0->happytransformer) (1.24.2)\n",
      "Requirement already satisfied: packaging in /Users/naowak/Library/Python/3.9/lib/python/site-packages (from datasets>=1.6.0->happytransformer) (23.0)\n",
      "Requirement already satisfied: responses<0.19 in /Users/naowak/Library/Python/3.9/lib/python/site-packages (from datasets>=1.6.0->happytransformer) (0.18.0)\n",
      "Requirement already satisfied: fsspec[http]>=2021.11.1 in /Users/naowak/Library/Python/3.9/lib/python/site-packages (from datasets>=1.6.0->happytransformer) (2023.1.0)\n",
      "Requirement already satisfied: pyarrow>=6.0.0 in /Users/naowak/Library/Python/3.9/lib/python/site-packages (from datasets>=1.6.0->happytransformer) (11.0.0)\n",
      "Requirement already satisfied: pandas in /Users/naowak/Library/Python/3.9/lib/python/site-packages (from datasets>=1.6.0->happytransformer) (1.5.3)\n",
      "Requirement already satisfied: multiprocess in /Users/naowak/Library/Python/3.9/lib/python/site-packages (from datasets>=1.6.0->happytransformer) (0.70.14)\n",
      "Requirement already satisfied: typing-extensions in /Users/naowak/Library/Python/3.9/lib/python/site-packages (from torch>=1.0->happytransformer) (4.4.0)\n",
      "Requirement already satisfied: regex!=2019.12.17 in /Users/naowak/Library/Python/3.9/lib/python/site-packages (from transformers>=4.4.0->happytransformer) (2022.10.31)\n",
      "Requirement already satisfied: tokenizers!=0.11.3,<0.13,>=0.11.1 in /Users/naowak/Library/Python/3.9/lib/python/site-packages (from transformers>=4.4.0->happytransformer) (0.12.1)\n",
      "Requirement already satisfied: filelock in /Users/naowak/Library/Python/3.9/lib/python/site-packages (from transformers>=4.4.0->happytransformer) (3.9.0)\n",
      "Requirement already satisfied: sacremoses in /Users/naowak/Library/Python/3.9/lib/python/site-packages (from transformers>=4.4.0->happytransformer) (0.0.53)\n",
      "Requirement already satisfied: aiosignal>=1.1.2 in /Users/naowak/Library/Python/3.9/lib/python/site-packages (from aiohttp->datasets>=1.6.0->happytransformer) (1.3.1)\n",
      "Requirement already satisfied: async-timeout<5.0,>=4.0.0a3 in /Users/naowak/Library/Python/3.9/lib/python/site-packages (from aiohttp->datasets>=1.6.0->happytransformer) (4.0.2)\n",
      "Requirement already satisfied: frozenlist>=1.1.1 in /Users/naowak/Library/Python/3.9/lib/python/site-packages (from aiohttp->datasets>=1.6.0->happytransformer) (1.3.3)\n",
      "Requirement already satisfied: yarl<2.0,>=1.0 in /Users/naowak/Library/Python/3.9/lib/python/site-packages (from aiohttp->datasets>=1.6.0->happytransformer) (1.8.2)\n",
      "Requirement already satisfied: charset-normalizer<3.0,>=2.0 in /Users/naowak/Library/Python/3.9/lib/python/site-packages (from aiohttp->datasets>=1.6.0->happytransformer) (2.1.1)\n",
      "Requirement already satisfied: multidict<7.0,>=4.5 in /Users/naowak/Library/Python/3.9/lib/python/site-packages (from aiohttp->datasets>=1.6.0->happytransformer) (6.0.4)\n",
      "Requirement already satisfied: attrs>=17.3.0 in /Users/naowak/Library/Python/3.9/lib/python/site-packages (from aiohttp->datasets>=1.6.0->happytransformer) (22.2.0)\n",
      "Requirement already satisfied: urllib3<1.27,>=1.21.1 in /Users/naowak/Library/Python/3.9/lib/python/site-packages (from requests>=2.19.0->datasets>=1.6.0->happytransformer) (1.26.14)\n",
      "Requirement already satisfied: idna<4,>=2.5 in /Users/naowak/Library/Python/3.9/lib/python/site-packages (from requests>=2.19.0->datasets>=1.6.0->happytransformer) (3.4)\n",
      "Requirement already satisfied: certifi>=2017.4.17 in /Users/naowak/Library/Python/3.9/lib/python/site-packages (from requests>=2.19.0->datasets>=1.6.0->happytransformer) (2022.12.7)\n",
      "Requirement already satisfied: python-dateutil>=2.8.1 in /Users/naowak/Library/Python/3.9/lib/python/site-packages (from pandas->datasets>=1.6.0->happytransformer) (2.8.2)\n",
      "Requirement already satisfied: pytz>=2020.1 in /Users/naowak/Library/Python/3.9/lib/python/site-packages (from pandas->datasets>=1.6.0->happytransformer) (2022.7.1)\n",
      "Requirement already satisfied: six in /Applications/Xcode.app/Contents/Developer/Library/Frameworks/Python3.framework/Versions/3.9/lib/python3.9/site-packages (from sacremoses->transformers>=4.4.0->happytransformer) (1.15.0)\n",
      "Requirement already satisfied: joblib in /Users/naowak/Library/Python/3.9/lib/python/site-packages (from sacremoses->transformers>=4.4.0->happytransformer) (1.2.0)\n",
      "Requirement already satisfied: click in /Users/naowak/Library/Python/3.9/lib/python/site-packages (from sacremoses->transformers>=4.4.0->happytransformer) (8.1.3)\n",
      "\n",
      "\u001b[1m[\u001b[0m\u001b[34;49mnotice\u001b[0m\u001b[1;39;49m]\u001b[0m\u001b[39;49m A new release of pip available: \u001b[0m\u001b[31;49m22.3.1\u001b[0m\u001b[39;49m -> \u001b[0m\u001b[32;49m23.0\u001b[0m\n",
      "\u001b[1m[\u001b[0m\u001b[34;49mnotice\u001b[0m\u001b[1;39;49m]\u001b[0m\u001b[39;49m To update, run: \u001b[0m\u001b[32;49m/Applications/Xcode.app/Contents/Developer/usr/bin/python3 -m pip install --upgrade pip\u001b[0m\n",
      "Note: you may need to restart the kernel to use updated packages.\n"
     ]
    }
   ],
   "source": [
    "%pip install happytransformer"
   ]
  },
  {
   "attachments": {},
   "cell_type": "markdown",
   "metadata": {},
   "source": [
    "### Load model"
   ]
  },
  {
   "cell_type": "code",
   "execution_count": null,
   "metadata": {},
   "outputs": [],
   "source": [
    "# With transformers\n",
    "\n",
    "# from transformers import GPTJForCausalLM, AutoTokenizer\n",
    "\n",
    "# model = GPTJForCausalLM.from_pretrained(\"Cedille/fr-boris\")\n",
    "# tokenizer = AutoTokenizer.from_pretrained(\"Cedille/fr-boris\")"
   ]
  },
  {
   "cell_type": "code",
   "execution_count": 2,
   "metadata": {},
   "outputs": [
    {
     "name": "stderr",
     "output_type": "stream",
     "text": [
      "Downloading: 100%|██████████| 1.27k/1.27k [00:00<00:00, 569kB/s]\n",
      "Downloading: 100%|██████████| 1.37G/1.37G [01:52<00:00, 13.1MB/s] \n",
      "Downloading: 100%|██████████| 561/561 [00:00<00:00, 225kB/s]\n",
      "Downloading: 100%|██████████| 779k/779k [00:01<00:00, 642kB/s]  \n",
      "Downloading: 100%|██████████| 446k/446k [00:00<00:00, 742kB/s]  \n",
      "Downloading: 100%|██████████| 1.29M/1.29M [00:00<00:00, 1.96MB/s]\n",
      "Downloading: 100%|██████████| 435/435 [00:00<00:00, 161kB/s]\n",
      "02/14/2023 11:35:25 - INFO - happytransformer.happy_transformer -   Using model: cpu\n"
     ]
    }
   ],
   "source": [
    "# With happytransformer\n",
    "\n",
    "from happytransformer import HappyGeneration, GENSettings, GENTrainArgs\n",
    "\n",
    "happy_gen = HappyGeneration(\"fb\", \"xhyi/PT_GPTNEO350_ATG\")\n"
   ]
  },
  {
   "attachments": {},
   "cell_type": "markdown",
   "metadata": {},
   "source": [
    "### Predict"
   ]
  },
  {
   "cell_type": "code",
   "execution_count": null,
   "metadata": {},
   "outputs": [],
   "source": [
    "# With transformers\n",
    "\n",
    "# prompt = (\n",
    "#     \"Le président Pompidou était \"\n",
    "# )\n",
    "\n",
    "# input_ids = tokenizer(prompt, return_tensors=\"pt\").input_ids\n",
    "\n",
    "# gen_tokens = model.generate(\n",
    "#     input_ids,\n",
    "#     no_repeat_ngram_size=2, \n",
    "#     do_sample=True,\n",
    "#     temperature=0.5,\n",
    "#     top_k=25,\n",
    "#     top_p=0.5,\n",
    "#     max_length=200,\n",
    "# )\n",
    "\n",
    "# gen_text = tokenizer.batch_decode(gen_tokens)[0]\n",
    "# print(gen_text)"
   ]
  },
  {
   "cell_type": "code",
   "execution_count": 4,
   "metadata": {},
   "outputs": [
    {
     "name": "stderr",
     "output_type": "stream",
     "text": [
      "Setting `pad_token_id` to `eos_token_id`:50256 for open-end generation.\n"
     ]
    },
    {
     "name": "stdout",
     "output_type": "stream",
     "text": [
      " The magnitude of the quake on May 4th 2017 was 6.0 magnitude at the time, so it was not as bad as it could have been. We have to consider that the earthquake was in an area that is already flooded, which is one of many reasons why we are now preparing for a future event in the same area.\n",
      "\n",
      "The initial warning systems that are in place are the following:\n",
      "– GPS\n",
      " – Cell phone location\n",
      "And now, what I’m doing next is using a smartphone in order to record a video of a live earthquake. This has the benefit of being a more accurate representation of where an earthquake is happening, but since this is an emergency situation, it is also the only way we can be sure we‘re not mislabeling the area or not recording it accurately. In this video, you can see how a very large earthquake has struck in Turkey, while the video also highlights the location of all the buildings that were damaged, and how the roads were flooded. It will be interesting to see what we learn when we see the live video from the affected area!\n",
      "It is interesting that we have a lot of information about the size of earthquakes from our satellite imagery. But, of course, we only get a snapshot of what“s happening” in a given area, or for that matter in any area of Turkey. And so, our next step is to determine the actual magnitude that triggered the event, to get an idea of whether we should be preparing ourselves for an actual event. That is a difficult task, as our technology is not that advanced yet, yet our equipment is very accurate. There are two methods of determining the magnitude and location: GPS and cell phone tracking. You can read an article in my previous post on this topic, where we were able to do both methods for our earthquake event to be classified. So far, the GPS system is the one that has been the most accurate, since it can provide us with the correct location even for the smaller earthquakes. For smaller temps, cell phones can also be used, even though they are much more costly and less accurate than the phone. However, both cell-phone tracking and GPS can tell us the exact moment, time of day, weather, etc. of an event and we need to take that into account in our planning. Also, a few other factors can affect the severity of these earthquakes, like the intensity of ground shaking, whether or even\n"
     ]
    }
   ],
   "source": [
    "# With happytransformer\n",
    "\n",
    "prompt = (\n",
    "    \"By default a text generation algorithm called “greedy” is used. This algorithm \"\n",
    ")\n",
    "\n",
    "prompt = (\n",
    "    \"An earthquake strikes Turkey and Syria, killing over 36,000 people and injuring more than 94,000 others.\"\n",
    ")\n",
    "\n",
    "\n",
    "args = GENSettings(\n",
    "    no_repeat_ngram_size=2, \n",
    "    do_sample=True, \n",
    "    early_stopping=True,\n",
    "    max_length=500,\n",
    "    temperature=0.9, \n",
    "    top_k=30, \n",
    "    top_p=0.95,\n",
    ")\n",
    "\n",
    "result = happy_gen.generate_text(prompt, args=args)\n",
    "print(result.text)"
   ]
  },
  {
   "attachments": {},
   "cell_type": "markdown",
   "metadata": {},
   "source": [
    "### Train "
   ]
  },
  {
   "cell_type": "code",
   "execution_count": null,
   "metadata": {},
   "outputs": [],
   "source": [
    "# With happytransformer\n",
    "\n",
    "args = GENTrainArgs(learning_rate=1e-5, num_train_epochs=1)\n",
    "happy_gen.train(\"train.txt\", args=args)\n",
    "happy_gen.save(\"./gpt-overton\")"
   ]
  },
  {
   "attachments": {},
   "cell_type": "markdown",
   "metadata": {},
   "source": [
    "### Predict with new model"
   ]
  },
  {
   "cell_type": "code",
   "execution_count": null,
   "metadata": {},
   "outputs": [],
   "source": [
    "# With happytransformer\n",
    "\n",
    "prompt = (\n",
    "    \"Le président Pompidou était \"\n",
    ")\n",
    "\n",
    "args = GENSettings(\n",
    "    no_repeat_ngram_size=2, \n",
    "    do_sample=True, \n",
    "    temperature=0.5, \n",
    "    top_k=25, \n",
    "    top_p=0.5,\n",
    "    max_length=200,\n",
    ")\n",
    "\n",
    "result = happy_gen.generate_text(prompt, args=args)"
   ]
  }
 ],
 "metadata": {
  "kernelspec": {
   "display_name": "Python 3",
   "language": "python",
   "name": "python3"
  },
  "language_info": {
   "codemirror_mode": {
    "name": "ipython",
    "version": 3
   },
   "file_extension": ".py",
   "mimetype": "text/x-python",
   "name": "python",
   "nbconvert_exporter": "python",
   "pygments_lexer": "ipython3",
   "version": "3.9.6"
  },
  "orig_nbformat": 4,
  "vscode": {
   "interpreter": {
    "hash": "31f2aee4e71d21fbe5cf8b01ff0e069b9275f58929596ceb00d14d90e3e16cd6"
   }
  }
 },
 "nbformat": 4,
 "nbformat_minor": 2
}
